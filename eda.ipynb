{
 "cells": [
  {
   "cell_type": "code",
   "execution_count": null,
   "metadata": {},
   "outputs": [],
   "source": [
    "import numpy as np \n",
    "import pandas as pd \n",
    "import matplotlib.pyplot as plt \n",
    "import seaborn as sns\n",
    "import get_data"
   ]
  },
  {
   "cell_type": "code",
   "execution_count": null,
   "metadata": {},
   "outputs": [],
   "source": [
    "players=get_data.get_player_data()\n",
    "gws=get_data.get_gameweek_data()\n",
    "fixtures=get_data.get_fixtures()"
   ]
  },
  {
   "cell_type": "code",
   "execution_count": null,
   "metadata": {},
   "outputs": [],
   "source": [
    "players.columns"
   ]
  },
  {
   "cell_type": "code",
   "execution_count": null,
   "metadata": {},
   "outputs": [],
   "source": [
    "columns=['id_x','first_name','second_name', 'now_cost','selected_by_percent','team_name', 'position','total_points','goals_scored',\n",
    "       'assists', 'clean_sheets', 'goals_conceded','minutes']\n",
    "players=players[columns]"
   ]
  },
  {
   "cell_type": "code",
   "execution_count": null,
   "metadata": {},
   "outputs": [],
   "source": [
    "players=players.sort_values('total_points',ascending=False).reset_index(drop=True)"
   ]
  },
  {
   "cell_type": "code",
   "execution_count": null,
   "metadata": {},
   "outputs": [],
   "source": [
    "players['P/V']=players['total_points']/(players['now_cost']/10)"
   ]
  },
  {
   "cell_type": "code",
   "execution_count": null,
   "metadata": {},
   "outputs": [],
   "source": [
    "fig,axes=plt.subplots(1,2,figsize=(15,3))\n",
    "fig.tight_layout()\n",
    "_=players.groupby('team_name')['now_cost'].sum().sort_values().plot(kind='bar',ax=axes[0],title='Total value by team')\n",
    "_=players.groupby('team_name')['total_points'].sum().sort_values().plot(kind='bar',ax=axes[1],color='orange',title='Total points by team')\n"
   ]
  },
  {
   "cell_type": "code",
   "execution_count": null,
   "metadata": {},
   "outputs": [],
   "source": [
    "_=players.groupby('team_name')['P/V'].sum().sort_values().plot(kind='bar',title='Total points/ Total value by team')"
   ]
  },
  {
   "cell_type": "code",
   "execution_count": null,
   "metadata": {},
   "outputs": [],
   "source": [
    "team_sums=players.groupby('team_name')['now_cost','total_points'].sum()\n",
    "team_sums['p/v']=team_sums.total_points/team_sums.now_cost\n",
    "team_sums=team_sums.sort_values('p/v')\n",
    "plt.figure(figsize=(15,3))\n",
    "sns.barplot(x=team_sums.index,y=team_sums['p/v'],color='lightblue')\n",
    "plt.show()"
   ]
  },
  {
   "cell_type": "code",
   "execution_count": null,
   "metadata": {},
   "outputs": [],
   "source": [
    "top_15_points=players.sort_values('total_points',ascending=False).head(15)\n",
    "top_15_value=players.sort_values('now_cost',ascending=False).head(15)\n",
    "top_15_pv=players.sort_values('P/V',ascending=False).head(15)\n",
    "fig,axes=plt.subplots(3,1,figsize=(15,9))\n",
    "fig.tight_layout()\n",
    "axes[0].title.set_text('Players with highest points')\n",
    "sns.barplot(x=top_15_points['second_name'],y=top_15_points['total_points'],ax=axes[0])\n",
    "axes[0].set_xlabel('')\n",
    "axes[1].title.set_text('Players with highest value')\n",
    "sns.barplot(x=top_15_value['second_name'],y=top_15_value['now_cost'],ax=axes[1])\n",
    "axes[1].set_xlabel('')\n",
    "axes[2].title.set_text('Players with highest points/value ratio')\n",
    "sns.barplot(x=top_15_pv['second_name'],y=top_15_pv['P/V'],ax=axes[2])\n",
    "axes[2].set_xlabel('')\n",
    "fig.show()"
   ]
  },
  {
   "cell_type": "code",
   "execution_count": null,
   "metadata": {},
   "outputs": [],
   "source": [
    "fig,axes=plt.subplots(1,2,figsize=(15,3))\n",
    "sns.distplot(players['total_points'],kde=True,ax=axes[0])\n",
    "sns.distplot(players['now_cost']/10,kde=True,ax=axes[1])\n",
    "fig.show()"
   ]
  },
  {
   "cell_type": "code",
   "execution_count": null,
   "metadata": {},
   "outputs": [],
   "source": [
    "regular_players=players[players['minutes']>0]\n",
    "_=sns.boxplot(x=regular_players['position'],y=regular_players['total_points'])"
   ]
  },
  {
   "cell_type": "code",
   "execution_count": null,
   "metadata": {},
   "outputs": [],
   "source": [
    "_=sns.boxplot(x=regular_players['position'],y=regular_players['P/V'])"
   ]
  },
  {
   "cell_type": "code",
   "execution_count": null,
   "metadata": {},
   "outputs": [],
   "source": [
    "players"
   ]
  },
  {
   "cell_type": "code",
   "execution_count": null,
   "metadata": {},
   "outputs": [],
   "source": []
  }
 ],
 "metadata": {
  "kernelspec": {
   "display_name": "Python 3.7.9 64-bit ('fpl': venv)",
   "metadata": {
    "interpreter": {
     "hash": "785da5d47e9d68d859abbfcfd88431f2f86c474bdc9d3f0972b8594223a71292"
    }
   },
   "name": "Python 3.7.9 64-bit ('fpl': venv)"
  },
  "language_info": {
   "codemirror_mode": {
    "name": "ipython",
    "version": 3
   },
   "file_extension": ".py",
   "mimetype": "text/x-python",
   "name": "python",
   "nbconvert_exporter": "python",
   "pygments_lexer": "ipython3",
   "version": "3.7.9-final"
  }
 },
 "nbformat": 4,
 "nbformat_minor": 2
}
