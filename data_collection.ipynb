{
 "cells": [
  {
   "cell_type": "code",
   "execution_count": null,
   "metadata": {},
   "outputs": [],
   "source": [
    "import requests\n",
    "import pandas as pd\n",
    "import numpy as np"
   ]
  },
  {
   "cell_type": "code",
   "execution_count": null,
   "metadata": {},
   "outputs": [],
   "source": [
    "# Pull data for players\n",
    "url = 'https://fantasy.premierleague.com/api/bootstrap-static/'\n",
    "r = requests.get(url)\n",
    "json = r.json()\n",
    "players = pd.DataFrame(json['elements'])\n",
    "player_type = pd.DataFrame(json['element_types'])\n",
    "teams = pd.DataFrame(json['teams'])"
   ]
  },
  {
   "cell_type": "code",
   "execution_count": null,
   "metadata": {},
   "outputs": [],
   "source": [
    "# Pull data for players by gameweek\n",
    "players_gw=pd.DataFrame()\n",
    "for player_id in range (1,574):\n",
    "    url='https://fantasy.premierleague.com/api/element-summary/{}/'.format(player_id)\n",
    "    r = requests.get(url)\n",
    "    json = r.json()\n",
    "    player_gw=pd.DataFrame(json['history'])\n",
    "    players_gw=pd.concat([players_gw,player_gw])"
   ]
  },
  {
   "cell_type": "code",
   "execution_count": null,
   "metadata": {},
   "outputs": [],
   "source": [
    "# Pull fixtures data\n",
    "url='https://fantasy.premierleague.com/api/fixtures/'\n",
    "r = requests.get(url)\n",
    "json = r.json()\n",
    "fixtures=pd.DataFrame(json)"
   ]
  },
  {
   "cell_type": "code",
   "execution_count": null,
   "metadata": {},
   "outputs": [],
   "source": []
  }
 ],
 "metadata": {
  "kernelspec": {
   "display_name": "Python 3.7.9 64-bit ('fpl')",
   "metadata": {
    "interpreter": {
     "hash": "785da5d47e9d68d859abbfcfd88431f2f86c474bdc9d3f0972b8594223a71292"
    }
   },
   "name": "Python 3.7.9 64-bit ('fpl')"
  },
  "language_info": {
   "codemirror_mode": {
    "name": "ipython",
    "version": 3
   },
   "file_extension": ".py",
   "mimetype": "text/x-python",
   "name": "python",
   "nbconvert_exporter": "python",
   "pygments_lexer": "ipython3",
   "version": "3.7.9-final"
  }
 },
 "nbformat": 4,
 "nbformat_minor": 2
}
