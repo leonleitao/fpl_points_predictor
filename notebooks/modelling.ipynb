{
 "cells": [
  {
   "cell_type": "code",
   "execution_count": null,
   "metadata": {},
   "outputs": [],
   "source": [
    "import pandas as pd \n",
    "import numpy as np \n",
    "import lightgbm as lgb\n",
    "import matplotlib.pyplot as plt\n",
    "from sklearn.model_selection import train_test_split\n",
    "from sklearn.ensemble import RandomForestRegressor\n",
    "from sklearn.metrics import mean_squared_error,mean_absolute_error"
   ]
  },
  {
   "cell_type": "code",
   "execution_count": null,
   "metadata": {},
   "outputs": [],
   "source": [
    "data=pd.read_csv('../data/data.csv')\n",
    "for col in ['first_name', 'second_name', 'position','id_x','team','is_home', 'opposition_team',]:\n",
    "    data[col] = data[col].astype('category')"
   ]
  },
  {
   "cell_type": "code",
   "execution_count": null,
   "metadata": {},
   "outputs": [],
   "source": [
    "current_gw=max(set(data['event']))\n",
    "#Data from past gameweeks\n",
    "past_df=data[data['event']<current_gw]\n",
    "#Data for current gameweek (points to be predicted)\n",
    "current_df=data[data['event']==current_gw]"
   ]
  },
  {
   "cell_type": "code",
   "execution_count": null,
   "metadata": {},
   "outputs": [],
   "source": [
    "#Train-Test Split\n",
    "train=past_df[past_df['event']<current_gw-2]\n",
    "test=past_df[past_df['event']==current_gw-2]\n",
    "X_train=train.drop(['event','total_points','first_name','second_name','code','av_value','av(2)_value'],axis=1)\n",
    "y_train=train['total_points']\n",
    "X_test=test.drop(['event','total_points','first_name','second_name','code','av_value','av(2)_value'],axis=1)\n",
    "y_test=test['total_points']"
   ]
  },
  {
   "cell_type": "code",
   "execution_count": null,
   "metadata": {},
   "outputs": [],
   "source": [
    "reg=lgb.LGBMRegressor(n_estimators=20)\n",
    "reg.fit(X_train,y_train)\n",
    "preds=reg.predict(X_test)"
   ]
  },
  {
   "cell_type": "code",
   "execution_count": null,
   "metadata": {},
   "outputs": [],
   "source": [
    "print('MSE : {:.2f}'.format(mean_squared_error(y_test,preds)))\n",
    "print('MAE : {:.2f}'.format(mean_absolute_error(y_test,preds)))"
   ]
  },
  {
   "cell_type": "code",
   "execution_count": null,
   "metadata": {},
   "outputs": [],
   "source": [
    "lgb.plot_importance(reg,max_num_features=10)\n",
    "plt.show()"
   ]
  },
  {
   "cell_type": "code",
   "execution_count": null,
   "metadata": {},
   "outputs": [],
   "source": [
    "#Error analysis\n",
    "errors=test.copy()[['first_name', 'second_name', 'team', 'position','opposition_team','av_total_points']]\n",
    "errors['predictions']=np.round(preds)\n",
    "errors['true_points']=y_test\n",
    "errors['error']=errors['true_points']-errors['predictions']\n",
    "errors.sort_values('error',ascending=False).head(20)"
   ]
  },
  {
   "cell_type": "markdown",
   "metadata": {},
   "source": [
    "### Predictions for next gameweek"
   ]
  },
  {
   "cell_type": "code",
   "execution_count": null,
   "metadata": {},
   "outputs": [],
   "source": [
    "train=past_df\n",
    "test=current_df\n",
    "X_train=train.drop(['event','total_points','first_name','second_name','code','av_value','av(2)_value'],axis=1)\n",
    "y_train=train['total_points']\n",
    "X_test=test.drop(['event','total_points','first_name','second_name','code','av_value','av(2)_value'],axis=1)\n",
    "y_test=test['total_points']"
   ]
  },
  {
   "cell_type": "code",
   "execution_count": null,
   "metadata": {},
   "outputs": [],
   "source": [
    "reg=lgb.LGBMRegressor(n_estimators=50)\n",
    "reg.fit(X_train,y_train)\n",
    "preds=reg.predict(X_test)"
   ]
  },
  {
   "cell_type": "code",
   "execution_count": null,
   "metadata": {},
   "outputs": [],
   "source": [
    "predictions=test.copy()[['id_x','first_name', 'second_name', 'team', 'position','opposition_team']]\n",
    "predictions['predicted_points']=np.round(preds)\n",
    "# Players with highest predicted points\n",
    "predictions.sort_values('predicted_points',ascending=False).head(20)"
   ]
  },
  {
   "cell_type": "code",
   "execution_count": null,
   "metadata": {},
   "outputs": [],
   "source": []
  }
 ],
 "metadata": {
  "kernelspec": {
   "display_name": "Python 3.7.9 64-bit ('fpl')",
   "metadata": {
    "interpreter": {
     "hash": "785da5d47e9d68d859abbfcfd88431f2f86c474bdc9d3f0972b8594223a71292"
    }
   },
   "name": "Python 3.7.9 64-bit ('fpl')"
  },
  "language_info": {
   "codemirror_mode": {
    "name": "ipython",
    "version": 3
   },
   "file_extension": ".py",
   "mimetype": "text/x-python",
   "name": "python",
   "nbconvert_exporter": "python",
   "pygments_lexer": "ipython3",
   "version": "3.7.9-final"
  }
 },
 "nbformat": 4,
 "nbformat_minor": 2
}
